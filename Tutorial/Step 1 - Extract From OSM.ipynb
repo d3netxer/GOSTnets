{
 "cells": [
  {
   "cell_type": "markdown",
   "metadata": {},
   "source": [
    "### Extract from OSM\n",
    "The purpose of this script is to show how to go from a .osm.pbf file to a network format that GOSTnets will accept. \n",
    "Additional modifications in this script include: clipping the roads to an input polygon (here, rek2.shp), and slicing the roads DataFrame by a list of accepted road types, as tagged in OSM (see accepted_road_types list). "
   ]
  },
  {
   "cell_type": "code",
   "execution_count": 17,
   "metadata": {},
   "outputs": [],
   "source": [
    "import geopandas as gpd\n",
    "import pandas as pd\n",
    "import os, sys\n",
    "# add to your system path the location of the LoadOSM.py and GOSTnet.py scripts\n",
    "sys.path.append(r'C:\\Users\\charl\\Documents\\GitHub\\GOST_PublicGoods\\GOSTNets\\GOSTNets')\n",
    "import GOSTnet as gn\n",
    "import LoadOSM as losm\n",
    "import importlib"
   ]
  },
  {
   "cell_type": "markdown",
   "metadata": {},
   "source": [
    "Define filepaths. Note the amendments that need to be made to file paths!"
   ]
  },
  {
   "cell_type": "code",
   "execution_count": 18,
   "metadata": {
    "collapsed": true
   },
   "outputs": [],
   "source": [
    "pth = r'C:\\Users\\charl\\Documents\\T' # change this path to your working folder\n",
    "fil = r'iceland-latest.osm.pbf' # download this file from geofabrik: http://download.geofabrik.de/europe/iceland.html. \n",
    "\n",
    "# be sure to place the .osm.pbf file in the 'tutorial data' folder. \n",
    "\n",
    "f = os.path.join(pth, 'tutorial_data', fil)"
   ]
  },
  {
   "cell_type": "markdown",
   "metadata": {},
   "source": [
    "Using the loadOSM library, pass the filepath of the .osm.pbf to initiate a OSM_to_network class"
   ]
  },
  {
   "cell_type": "code",
   "execution_count": 19,
   "metadata": {
    "collapsed": true
   },
   "outputs": [],
   "source": [
    "iceland = losm.OSM_to_network(f)"
   ]
  },
  {
   "cell_type": "markdown",
   "metadata": {},
   "source": [
    "This generates a property of the class called 'roads_raw'. This is a raw dataframe of the highway objects, extracted from the .osm.pbf. This is the starting point for our network."
   ]
  },
  {
   "cell_type": "code",
   "execution_count": 20,
   "metadata": {},
   "outputs": [
    {
     "data": {
      "text/plain": [
       "service           25165\n",
       "footway           15868\n",
       "track              9953\n",
       "residential        9519\n",
       "path               7292\n",
       "tertiary           4573\n",
       "unclassified       2997\n",
       "secondary          2898\n",
       "primary            2353\n",
       "trunk              1461\n",
       "steps               793\n",
       "trunk_link          283\n",
       "platform            269\n",
       "bridleway           247\n",
       "primary_link        170\n",
       "cycleway            124\n",
       "secondary_link       95\n",
       "living_street        89\n",
       "tertiary_link        47\n",
       "motorway             40\n",
       "motorway_link        36\n",
       "construction         34\n",
       "pedestrian           24\n",
       "proposed             16\n",
       "road                 14\n",
       "raceway              12\n",
       "corridor              8\n",
       "bus_stop              7\n",
       "planned               2\n",
       "rest_area             2\n",
       "emergency_bay         1\n",
       "abandoned             1\n",
       "services              1\n",
       "Name: infra_type, dtype: int64"
      ]
     },
     "execution_count": 20,
     "metadata": {},
     "output_type": "execute_result"
    }
   ],
   "source": [
    "iceland.roads_raw.infra_type.value_counts()"
   ]
  },
  {
   "cell_type": "markdown",
   "metadata": {},
   "source": [
    "We define a list of the types of roads from the above that we consider acceptable for our road network"
   ]
  },
  {
   "cell_type": "code",
   "execution_count": 21,
   "metadata": {
    "collapsed": true
   },
   "outputs": [],
   "source": [
    "accepted_road_types = ['residential', 'unclassified', 'track','service','tertiary','road','secondary','primary','trunk','primary_link','trunk_link','tertiary_link','secondary_link']"
   ]
  },
  {
   "cell_type": "markdown",
   "metadata": {},
   "source": [
    "We call the filerRoads method and pass it a list of acceptable road types"
   ]
  },
  {
   "cell_type": "code",
   "execution_count": 22,
   "metadata": {
    "collapsed": true
   },
   "outputs": [],
   "source": [
    "iceland.filterRoads(acceptedRoads = accepted_road_types)"
   ]
  },
  {
   "cell_type": "code",
   "execution_count": 23,
   "metadata": {},
   "outputs": [
    {
     "data": {
      "text/plain": [
       "service           25165\n",
       "track              9953\n",
       "residential        9519\n",
       "tertiary           4573\n",
       "unclassified       2997\n",
       "secondary          2898\n",
       "primary            2353\n",
       "trunk              1461\n",
       "trunk_link          283\n",
       "primary_link        170\n",
       "secondary_link       95\n",
       "tertiary_link        47\n",
       "road                 14\n",
       "Name: infra_type, dtype: int64"
      ]
     },
     "execution_count": 23,
     "metadata": {},
     "output_type": "execute_result"
    }
   ],
   "source": [
    "iceland.roads_raw.infra_type.value_counts()"
   ]
  },
  {
   "cell_type": "markdown",
   "metadata": {},
   "source": [
    "Here, we import a shapefile for our area of interest. I want to make a map of Reykjavik, Iceland. I clip the extent of the country file to just the area around the capital (rek2.shp) below using standard GeoPandas functions:"
   ]
  },
  {
   "cell_type": "code",
   "execution_count": 24,
   "metadata": {},
   "outputs": [],
   "source": [
    "shp = gpd.read_file(os.path.join(pth, 'tutorial_data', 'rek2.shp'))\n",
    "shp = shp.to_crs({'init':'epsg:4326'})\n",
    "shp_obj = shp.geometry.iloc[0]"
   ]
  },
  {
   "cell_type": "markdown",
   "metadata": {},
   "source": [
    "I check to see everything lines up by running intersect and counting the True / False returns:"
   ]
  },
  {
   "cell_type": "code",
   "execution_count": 25,
   "metadata": {},
   "outputs": [
    {
     "data": {
      "text/plain": [
       "False    48689\n",
       "True     10839\n",
       "dtype: int64"
      ]
     },
     "execution_count": 25,
     "metadata": {},
     "output_type": "execute_result"
    }
   ],
   "source": [
    "iceland.roads_raw.geometry.intersects(shp_obj).value_counts()"
   ]
  },
  {
   "cell_type": "markdown",
   "metadata": {},
   "source": [
    "Then, I do this properly by modifying the roads_raw DF object - I remove any roads that don't intersect the capital area"
   ]
  },
  {
   "cell_type": "code",
   "execution_count": 26,
   "metadata": {
    "collapsed": true
   },
   "outputs": [],
   "source": [
    "iceland.roads_raw = iceland.roads_raw.loc[iceland.roads_raw.geometry.intersects(shp_obj) == True]"
   ]
  },
  {
   "cell_type": "markdown",
   "metadata": {},
   "source": [
    "having narrowed the DataFrame to the roads we are interested in, we generate the RoadsGDF object"
   ]
  },
  {
   "cell_type": "code",
   "execution_count": 27,
   "metadata": {
    "collapsed": true
   },
   "outputs": [],
   "source": [
    "iceland.generateRoadsGDF(verbose = False)"
   ]
  },
  {
   "cell_type": "markdown",
   "metadata": {},
   "source": [
    "With initialReadIn(), we transform this to a graph object"
   ]
  },
  {
   "cell_type": "code",
   "execution_count": 28,
   "metadata": {},
   "outputs": [
    {
     "data": {
      "text/plain": [
       "<networkx.classes.multidigraph.MultiDiGraph at 0x1600e49f780>"
      ]
     },
     "execution_count": 28,
     "metadata": {},
     "output_type": "execute_result"
    }
   ],
   "source": [
    "iceland.initialReadIn()"
   ]
  },
  {
   "cell_type": "markdown",
   "metadata": {},
   "source": [
    "We save this graph object down to file using gn.save()"
   ]
  },
  {
   "cell_type": "code",
   "execution_count": 29,
   "metadata": {
    "collapsed": true
   },
   "outputs": [],
   "source": [
    "gn.save(iceland.network,'Iceland_unclean',os.path.join(pth, 'tutorial_outputs'))"
   ]
  },
  {
   "cell_type": "markdown",
   "metadata": {},
   "source": [
    "Move on to Step 2 to see how we clean up this rough network."
   ]
  }
 ],
 "metadata": {
  "kernelspec": {
   "display_name": "Python 3",
   "language": "python",
   "name": "python3"
  },
  "language_info": {
   "codemirror_mode": {
    "name": "ipython",
    "version": 3
   },
   "file_extension": ".py",
   "mimetype": "text/x-python",
   "name": "python",
   "nbconvert_exporter": "python",
   "pygments_lexer": "ipython3",
   "version": "3.6.1"
  }
 },
 "nbformat": 4,
 "nbformat_minor": 2
}
